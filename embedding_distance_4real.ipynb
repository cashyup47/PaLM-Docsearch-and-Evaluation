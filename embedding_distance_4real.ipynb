{
 "cells": [
  {
   "cell_type": "markdown",
   "metadata": {},
   "source": [
    "Information: \n",
    "This program gives the embedding score (0 to 1), where 0 means that they are basically the same response and 1 means that they are very different."
   ]
  },
  {
   "cell_type": "markdown",
   "metadata": {},
   "source": [
    "Imports and setting up the OS environment"
   ]
  },
  {
   "cell_type": "code",
   "execution_count": null,
   "metadata": {},
   "outputs": [],
   "source": [
    "import google.generativeai as palm\n",
    "import os\n",
    "import numpy as np\n",
    "\n",
    "# input your own Google API key between the quotations\n",
    "os.environ[\"GOOGLE_API_KEY\"] = ''\n",
    "palm.configure(api_key=os.environ[\"GOOGLE_API_KEY\"])"
   ]
  },
  {
   "cell_type": "markdown",
   "metadata": {},
   "source": [
    "Calculating the embedding distance based on the reference text and predictions (AI response)"
   ]
  },
  {
   "cell_type": "code",
   "execution_count": null,
   "metadata": {},
   "outputs": [
    {
     "name": "stdout",
     "output_type": "stream",
     "text": [
      "models/embedding-gecko-001\n",
      "0.07811725035673156\n"
     ]
    }
   ],
   "source": [
    "from langchain.evaluation import load_evaluator\n",
    "from langchain.evaluation import EmbeddingDistance\n",
    "\n",
    "# input your reference text between the quotations directly below\n",
    "ref = \"\"\n",
    "# input your prediction from the main notebook between the quotations below\n",
    "testing_text = \"\"\n",
    "\n",
    "for model in palm.list_models():\n",
    "  if 'embedText' in model.supported_generation_methods:\n",
    "    #print(model.name)\n",
    "    embedding_ref = palm.generate_embeddings(model=model, text=ref)\n",
    "    embedding_test = palm.generate_embeddings(model=model, text=testing_text)\n",
    "\n",
    "# this method gives a similar score (which is basically the reverse of the embedding distance)\n",
    "similar_measure = np.dot(embedding_ref['embedding'], embedding_test['embedding'])\n",
    "print(1 - float(similar_measure))"
   ]
  }
 ],
 "metadata": {
  "language_info": {
   "name": "python"
  },
  "orig_nbformat": 4
 },
 "nbformat": 4,
 "nbformat_minor": 2
}
